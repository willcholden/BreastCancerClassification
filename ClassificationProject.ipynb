{
 "cells": [
  {
   "cell_type": "code",
   "execution_count": 5,
   "id": "1b6f3292",
   "metadata": {},
   "outputs": [
    {
     "name": "stdout",
     "output_type": "stream",
     "text": [
      "Initial Size:  5766\n",
      "Cleaned Size:  4980\n",
      "   assessment age shape margin density  severity\n",
      "0           5  67     3      5       3         1\n",
      "2           5  58     4      5       3         1\n",
      "3           4  28     1      1       3         0\n",
      "8           5  57     1      5       3         1\n",
      "10          5  76     1      4       3         1\n",
      "11          3  42     2      1       3         1\n",
      "13          4  36     3      1       2         0\n",
      "14          4  60     2      1       2         0\n",
      "15          4  54     1      1       3         0\n",
      "16          3  52     3      4       3         0\n"
     ]
    }
   ],
   "source": [
    "import pandas as pd\n",
    "import numpy as np \n",
    "\n",
    "masses_data = pd.read_csv(\"mammogram_data/mammographic_masses.txt\")\n",
    "masses_data.head() #showing the first 5 data rows\n",
    "print(\"Initial Size: \", masses_data.size)\n",
    "\n",
    "# replace ? with Na, and remove null values \n",
    "masses_data.replace(\"?\", np.nan, inplace=True)\n",
    "masses_data.dropna(inplace=True)\n",
    "print(\"Cleaned Size: \", masses_data.size)\n",
    "print(masses_data.head(10))\n"
   ]
  },
  {
   "cell_type": "code",
   "execution_count": 53,
   "id": "acbf8d36",
   "metadata": {},
   "outputs": [
    {
     "name": "stdout",
     "output_type": "stream",
     "text": [
      "age         object\n",
      "shape       object\n",
      "margin      object\n",
      "density     object\n",
      "severity     int64\n",
      "dtype: object\n"
     ]
    },
    {
     "ename": "TypeError",
     "evalue": "Neither the `x` nor `y` variable appears to be numeric.",
     "output_type": "error",
     "traceback": [
      "\u001b[0;31m---------------------------------------------------------------------------\u001b[0m",
      "\u001b[0;31mTypeError\u001b[0m                                 Traceback (most recent call last)",
      "Cell \u001b[0;32mIn[53], line 10\u001b[0m\n\u001b[1;32m      6\u001b[0m \u001b[39mprint\u001b[39m(md_attributes\u001b[39m.\u001b[39mdtypes)\n\u001b[1;32m      8\u001b[0m \u001b[39m#sns.pairplot(md_attributes, vars=[\"age\", \"shape\", \"margin\", \"density\", \"severity\"])\u001b[39;00m\n\u001b[0;32m---> 10\u001b[0m sns\u001b[39m.\u001b[39;49mcatplot(\n\u001b[1;32m     11\u001b[0m     data\u001b[39m=\u001b[39;49mmasses_data, x\u001b[39m=\u001b[39;49m\u001b[39m\"\u001b[39;49m\u001b[39mmargin\u001b[39;49m\u001b[39m\"\u001b[39;49m, y\u001b[39m=\u001b[39;49m\u001b[39m\"\u001b[39;49m\u001b[39mshape\u001b[39;49m\u001b[39m\"\u001b[39;49m, hue\u001b[39m=\u001b[39;49m\u001b[39m\"\u001b[39;49m\u001b[39mseverity\u001b[39;49m\u001b[39m\"\u001b[39;49m,\n\u001b[1;32m     12\u001b[0m     kind\u001b[39m=\u001b[39;49m\u001b[39m\"\u001b[39;49m\u001b[39mviolin\u001b[39;49m\u001b[39m\"\u001b[39;49m, split\u001b[39m=\u001b[39;49m\u001b[39mTrue\u001b[39;49;00m\n\u001b[1;32m     13\u001b[0m )\n",
      "File \u001b[0;32m~/Desktop/Personal Projects/.venv/lib/python3.8/site-packages/seaborn/categorical.py:3187\u001b[0m, in \u001b[0;36mcatplot\u001b[0;34m(data, x, y, hue, row, col, col_wrap, estimator, errorbar, n_boot, units, seed, order, hue_order, row_order, col_order, height, aspect, kind, native_scale, formatter, orient, color, palette, hue_norm, legend, legend_out, sharex, sharey, margin_titles, facet_kws, ci, **kwargs)\u001b[0m\n\u001b[1;32m   3185\u001b[0m p \u001b[39m=\u001b[39m _CategoricalPlotter()\n\u001b[1;32m   3186\u001b[0m p\u001b[39m.\u001b[39mrequire_numeric \u001b[39m=\u001b[39m plotter_class\u001b[39m.\u001b[39mrequire_numeric\n\u001b[0;32m-> 3187\u001b[0m p\u001b[39m.\u001b[39;49mestablish_variables(x_, y_, hue, data, orient, order, hue_order)\n\u001b[1;32m   3188\u001b[0m \u001b[39mif\u001b[39;00m (\n\u001b[1;32m   3189\u001b[0m     order \u001b[39mis\u001b[39;00m \u001b[39mnot\u001b[39;00m \u001b[39mNone\u001b[39;00m\n\u001b[1;32m   3190\u001b[0m     \u001b[39mor\u001b[39;00m (sharex \u001b[39mand\u001b[39;00m p\u001b[39m.\u001b[39morient \u001b[39m==\u001b[39m \u001b[39m\"\u001b[39m\u001b[39mv\u001b[39m\u001b[39m\"\u001b[39m)\n\u001b[1;32m   3191\u001b[0m     \u001b[39mor\u001b[39;00m (sharey \u001b[39mand\u001b[39;00m p\u001b[39m.\u001b[39morient \u001b[39m==\u001b[39m \u001b[39m\"\u001b[39m\u001b[39mh\u001b[39m\u001b[39m\"\u001b[39m)\n\u001b[1;32m   3192\u001b[0m ):\n\u001b[1;32m   3193\u001b[0m     \u001b[39m# Sync categorical axis between facets to have the same categories\u001b[39;00m\n\u001b[1;32m   3194\u001b[0m     order \u001b[39m=\u001b[39m p\u001b[39m.\u001b[39mgroup_names\n",
      "File \u001b[0;32m~/Desktop/Personal Projects/.venv/lib/python3.8/site-packages/seaborn/categorical.py:544\u001b[0m, in \u001b[0;36m_CategoricalPlotter.establish_variables\u001b[0;34m(self, x, y, hue, data, orient, order, hue_order, units)\u001b[0m\n\u001b[1;32m    541\u001b[0m         \u001b[39mraise\u001b[39;00m \u001b[39mValueError\u001b[39;00m(err)\n\u001b[1;32m    543\u001b[0m \u001b[39m# Figure out the plotting orientation\u001b[39;00m\n\u001b[0;32m--> 544\u001b[0m orient \u001b[39m=\u001b[39m infer_orient(\n\u001b[1;32m    545\u001b[0m     x, y, orient, require_numeric\u001b[39m=\u001b[39;49m\u001b[39mself\u001b[39;49m\u001b[39m.\u001b[39;49mrequire_numeric\n\u001b[1;32m    546\u001b[0m )\n\u001b[1;32m    548\u001b[0m \u001b[39m# Option 2a:\u001b[39;00m\n\u001b[1;32m    549\u001b[0m \u001b[39m# We are plotting a single set of data\u001b[39;00m\n\u001b[1;32m    550\u001b[0m \u001b[39m# ------------------------------------\u001b[39;00m\n\u001b[1;32m    551\u001b[0m \u001b[39mif\u001b[39;00m x \u001b[39mis\u001b[39;00m \u001b[39mNone\u001b[39;00m \u001b[39mor\u001b[39;00m y \u001b[39mis\u001b[39;00m \u001b[39mNone\u001b[39;00m:\n\u001b[1;32m    552\u001b[0m \n\u001b[1;32m    553\u001b[0m     \u001b[39m# Determine where the data are\u001b[39;00m\n",
      "File \u001b[0;32m~/Desktop/Personal Projects/.venv/lib/python3.8/site-packages/seaborn/_oldcore.py:1632\u001b[0m, in \u001b[0;36minfer_orient\u001b[0;34m(x, y, orient, require_numeric)\u001b[0m\n\u001b[1;32m   1630\u001b[0m \u001b[39melif\u001b[39;00m require_numeric \u001b[39mand\u001b[39;00m \u001b[39m\"\u001b[39m\u001b[39mnumeric\u001b[39m\u001b[39m\"\u001b[39m \u001b[39mnot\u001b[39;00m \u001b[39min\u001b[39;00m (x_type, y_type):\n\u001b[1;32m   1631\u001b[0m     err \u001b[39m=\u001b[39m \u001b[39m\"\u001b[39m\u001b[39mNeither the `x` nor `y` variable appears to be numeric.\u001b[39m\u001b[39m\"\u001b[39m\n\u001b[0;32m-> 1632\u001b[0m     \u001b[39mraise\u001b[39;00m \u001b[39mTypeError\u001b[39;00m(err)\n\u001b[1;32m   1634\u001b[0m \u001b[39melse\u001b[39;00m:\n\u001b[1;32m   1635\u001b[0m     \u001b[39mreturn\u001b[39;00m \u001b[39m\"\u001b[39m\u001b[39mv\u001b[39m\u001b[39m\"\u001b[39m\n",
      "\u001b[0;31mTypeError\u001b[0m: Neither the `x` nor `y` variable appears to be numeric."
     ]
    }
   ],
   "source": [
    "import seaborn as sns\n",
    "sns.set()\n",
    "\n",
    "#eliminated bi-rads assessment as a predicative attribute\n",
    "md_attributes = masses_data[['age', 'shape', 'margin', 'density', 'severity']]\n",
    "print(md_attributes.dtypes)\n",
    "\n",
    "#sns.pairplot(md_attributes, vars=[\"age\", \"shape\", \"margin\", \"density\", \"severity\"])\n",
    "\n",
    "sns.catplot(\n",
    "    data=masses_data, x=\"margin\", y=\"shape\", hue=\"severity\",\n",
    "    kind=\"violin\", split=True\n",
    ")\n"
   ]
  },
  {
   "attachments": {},
   "cell_type": "markdown",
   "id": "01afbf49",
   "metadata": {},
   "source": [
    "import seaborn as sns\n",
    "sns.set()\n",
    "\n"
   ]
  }
 ],
 "metadata": {
  "kernelspec": {
   "display_name": "Python 3 (ipykernel)",
   "language": "python",
   "name": "python3"
  },
  "language_info": {
   "codemirror_mode": {
    "name": "ipython",
    "version": 3
   },
   "file_extension": ".py",
   "mimetype": "text/x-python",
   "name": "python",
   "nbconvert_exporter": "python",
   "pygments_lexer": "ipython3",
   "version": "3.8.9"
  }
 },
 "nbformat": 4,
 "nbformat_minor": 5
}
